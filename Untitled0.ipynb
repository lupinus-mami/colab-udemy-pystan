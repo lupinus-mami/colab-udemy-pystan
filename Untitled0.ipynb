{
  "nbformat": 4,
  "nbformat_minor": 0,
  "metadata": {
    "colab": {
      "name": "Untitled0.ipynb",
      "provenance": [],
      "toc_visible": true,
      "authorship_tag": "ABX9TyMYiuUlGY5X0u4m25+Lley/",
      "include_colab_link": true
    },
    "kernelspec": {
      "name": "python3",
      "display_name": "Python 3"
    },
    "language_info": {
      "name": "python"
    }
  },
  "cells": [
    {
      "cell_type": "markdown",
      "metadata": {
        "id": "view-in-github",
        "colab_type": "text"
      },
      "source": [
        "<a href=\"https://colab.research.google.com/github/lupinus-mami/colab-udemy-pystan/blob/main/Untitled0.ipynb\" target=\"_parent\"><img src=\"https://colab.research.google.com/assets/colab-badge.svg\" alt=\"Open In Colab\"/></a>"
      ]
    },
    {
      "cell_type": "markdown",
      "metadata": {
        "id": "9X0Xo2dJwn2A"
      },
      "source": [
        "# Program\n",
        "\n",
        "\n",
        "物件価格を単回帰で求める\n",
        "* param\n",
        "    * N:物件数\n",
        "    * a:傾き\n",
        "    * b:切片\n",
        "    * x:部屋の大きさ\n",
        "    * y:物件価格\n",
        "    * sigme:誤差\n",
        "* 仮説\n",
        "    * 物件価格yはax+bと表せる\n",
        "    * yは正規分布している\n",
        "* 統計モデル\n",
        "    * y[n] ~ Normal(ax[n]+b, sigma)\n",
        "    * つまりa,b,sigmaを求める1m"
      ]
    },
    {
      "cell_type": "code",
      "metadata": {
        "id": "oIVeeR_TzDXe"
      },
      "source": [
        ""
      ],
      "execution_count": null,
      "outputs": []
    },
    {
      "cell_type": "markdown",
      "metadata": {
        "id": "olz_-RqlzFBU"
      },
      "source": [
        "aaa\n"
      ]
    },
    {
      "cell_type": "code",
      "metadata": {
        "id": "YvlHqe_WwnF0"
      },
      "source": [
        ""
      ],
      "execution_count": 1,
      "outputs": []
    },
    {
      "cell_type": "code",
      "metadata": {
        "id": "t0d8_vBNycWS"
      },
      "source": [
        ""
      ],
      "execution_count": null,
      "outputs": []
    }
  ]
}